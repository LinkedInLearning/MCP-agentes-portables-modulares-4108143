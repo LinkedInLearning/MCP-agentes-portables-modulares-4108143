{
 "cells": [
  {
   "cell_type": "markdown",
   "id": "08accbd6",
   "metadata": {},
   "source": [
    "## MCP Primitives\n",
    "================"
   ]
  },
  {
   "cell_type": "markdown",
   "id": "4ad7c613",
   "metadata": {},
   "source": [
    "### Tools"
   ]
  },
  {
   "cell_type": "raw",
   "id": "5f5a7b74",
   "metadata": {
    "vscode": {
     "languageId": "raw"
    }
   },
   "source": [
    "{\n",
    "  name: \"searchFlights\",\n",
    "  description: \"Search for available flights\",\n",
    "  inputSchema: {\n",
    "    type: \"object\",\n",
    "    properties: {\n",
    "      origin: { type: \"string\", description: \"Departure city\" },\n",
    "      destination: { type: \"string\", description: \"Arrival city\" },\n",
    "      date: { type: \"string\", format: \"date\", description: \"Travel date\" }\n",
    "    },\n",
    "    required: [\"origin\", \"destination\", \"date\"]\n",
    "  }\n",
    "}"
   ]
  },
  {
   "cell_type": "code",
   "execution_count": 1,
   "id": "f0b9c30f",
   "metadata": {},
   "outputs": [],
   "source": [
    "from mcp.server.fastmcp import FastMCP\n",
    "\n",
    "mcp = FastMCP(\"Primitives Demo\")\n",
    "\n",
    "@mcp.tool()\n",
    "def searchFlights(origin: str, destination: str, date: str) -> dict:\n",
    "    \"\"\"Search for available flights (YYYY-MM-DD).\"\"\"\n",
    "    # Demo estático (en real, aquí llamarías a tu API de vuelos)\n",
    "    return {\n",
    "        \"flights\": [\n",
    "            {\"flight_number\": \"AA123\", \"departure\": origin, \"arrival\": destination, \"date\": date, \"price\": 300},\n",
    "            {\"flight_number\": \"DL456\", \"departure\": origin, \"arrival\": destination, \"date\": date, \"price\": 350},\n",
    "        ]\n",
    "    }\n"
   ]
  },
  {
   "cell_type": "markdown",
   "id": "6ce192a1",
   "metadata": {},
   "source": [
    "### Resources"
   ]
  },
  {
   "cell_type": "raw",
   "id": "de90408b",
   "metadata": {
    "vscode": {
     "languageId": "raw"
    }
   },
   "source": [
    "{\n",
    "  \"uriTemplate\": \"travel://flights/{origin}/{destination}\",\n",
    "  \"name\": \"flight-search\",\n",
    "  \"title\": \"Flight Search\",\n",
    "  \"description\": \"Search available flights between cities\",\n",
    "  \"mimeType\": \"application/json\"\n",
    "}"
   ]
  },
  {
   "cell_type": "code",
   "execution_count": 3,
   "id": "7f6829cd",
   "metadata": {},
   "outputs": [],
   "source": [
    "@mcp.resource(\n",
    "    uri = \"travel://flights/{origin}/{destination}\",\n",
    "    name = \"flight-search\",\n",
    "    title = \"Flight Search\",\n",
    "    description = \"Search available flights between cities\",\n",
    "    mime_type=\"application/json\",\n",
    ")\n",
    "def flight_search(origin: str, destination: str) -> dict:\n",
    "    \"\"\"Search Flights between origin and destination\"\"\"\n",
    "    return {\n",
    "        \"flights\": [\n",
    "            {\"flight_number\": \"AA123\", \"departure\": origin, \"arrival\": destination, \"price\": 300},\n",
    "            {\"flight_number\": \"DL456\", \"departure\": origin, \"arrival\": destination, \"price\": 350},\n",
    "        ]   \n",
    "    }"
   ]
  },
  {
   "cell_type": "markdown",
   "id": "3666096b",
   "metadata": {},
   "source": [
    "### Prompts"
   ]
  },
  {
   "cell_type": "raw",
   "id": "39bf68ad",
   "metadata": {
    "vscode": {
     "languageId": "raw"
    }
   },
   "source": [
    "{\n",
    "  \"name\": \"plan-vacation\",\n",
    "  \"title\": \"Plan a vacation\",\n",
    "  \"description\": \"Guide through vacation planning process\",\n",
    "  \"arguments\": [\n",
    "    { \"name\": \"destination\", \"type\": \"string\", \"required\": true },\n",
    "    { \"name\": \"duration\", \"type\": \"number\", \"description\": \"days\" },\n",
    "    { \"name\": \"budget\", \"type\": \"number\", \"required\": false },\n",
    "    { \"name\": \"interests\", \"type\": \"array\", \"items\": { \"type\": \"string\" } }\n",
    "  ]\n",
    "}"
   ]
  },
  {
   "cell_type": "code",
   "execution_count": 4,
   "id": "f6e1e126",
   "metadata": {},
   "outputs": [],
   "source": [
    "@mcp.prompt(title=\"Plan a vacation\", description=\"Guide through vacation planning process\")\n",
    "def planVacation(destination: str, duration: int, budget: float, interests: list[str]) -> str:\n",
    "    return (\n",
    "        f\"- Planning a {duration}-day vacation to {destination} with a budget of ${budget:.0f}.\\n\"\n",
    "        f\"  Interests include: {', '.join(interests)}.\"\n",
    "    )\n"
   ]
  },
  {
   "cell_type": "markdown",
   "id": "27e3c8c7",
   "metadata": {},
   "source": [
    "### OpenAI and Azure MCP server"
   ]
  },
  {
   "cell_type": "raw",
   "id": "94c26310",
   "metadata": {
    "vscode": {
     "languageId": "raw"
    }
   },
   "source": [
    "mcp\n",
    "azure-identity\n",
    "openai\n",
    "logging"
   ]
  },
  {
   "cell_type": "code",
   "execution_count": 2,
   "id": "e800af49",
   "metadata": {},
   "outputs": [],
   "source": [
    "from azure.identity import DefaultAzureCredential, get_bearer_token_provider\n",
    "from openai import AzureOpenAI\n",
    "from mcp import ClientSession, StdioServerParameters, types\n",
    "from mcp.client.stdio import stdio_client\n",
    "import json, os, logging, asyncio\n",
    "from dotenv import load_dotenv"
   ]
  },
  {
   "cell_type": "code",
   "execution_count": 3,
   "id": "7f7a17be",
   "metadata": {},
   "outputs": [],
   "source": [
    "\n",
    "# Setup logging and load environment variables\n",
    "logger = logging.getLogger(__name__)"
   ]
  },
  {
   "cell_type": "code",
   "execution_count": 4,
   "id": "7aea8230",
   "metadata": {},
   "outputs": [],
   "source": [
    "# Azure OpenAI configuration\n",
    "\n",
    "load_dotenv()\n",
    "\n",
    "AZURE_OPENAI_ENDPOINT = os.getenv(\"AZURE_OPENAI_ENDPOINT\")\n",
    "AZURE_OPENAI_MODEL = os.getenv(\"AZURE_OPENAI_MODEL\")\n",
    "\n",
    "# Initialize Azure credentials\n",
    "token_provider = get_bearer_token_provider(\n",
    "    DefaultAzureCredential(), \"https://cognitiveservices.azure.com/.default\"\n",
    ")"
   ]
  },
  {
   "cell_type": "code",
   "execution_count": 5,
   "id": "bd382222",
   "metadata": {},
   "outputs": [],
   "source": [
    "# Initialize Azure OpenAI client\n",
    "client = AzureOpenAI(\n",
    "        azure_endpoint=AZURE_OPENAI_ENDPOINT, \n",
    "        api_version=\"2024-04-01-preview\", \n",
    "        azure_ad_token_provider=token_provider\n",
    "    )"
   ]
  }
 ],
 "metadata": {
  "kernelspec": {
   "display_name": "concepts",
   "language": "python",
   "name": "python3"
  },
  "language_info": {
   "codemirror_mode": {
    "name": "ipython",
    "version": 3
   },
   "file_extension": ".py",
   "mimetype": "text/x-python",
   "name": "python",
   "nbconvert_exporter": "python",
   "pygments_lexer": "ipython3",
   "version": "3.12.2"
  }
 },
 "nbformat": 4,
 "nbformat_minor": 5
}
