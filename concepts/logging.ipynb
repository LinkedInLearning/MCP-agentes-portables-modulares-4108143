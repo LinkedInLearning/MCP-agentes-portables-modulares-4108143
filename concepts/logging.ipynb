{
 "cells": [
  {
   "cell_type": "markdown",
   "id": "89b1dda2",
   "metadata": {},
   "source": [
    "### Logging MCP Server + Client"
   ]
  },
  {
   "cell_type": "markdown",
   "id": "b3d4605e",
   "metadata": {},
   "source": [
    "* No loguear en stdout\n",
    "\n",
    "* Logs al host: stderr\n",
    "\n",
    "* Logs al cliente MCP: notifications/message\n",
    "\n",
    "* Cliente puede fijar nivel: logging/setLevel"
   ]
  },
  {
   "cell_type": "code",
   "execution_count": null,
   "id": "e72bfd2b",
   "metadata": {},
   "outputs": [],
   "source": [
    "# --- Logging base (stderr, no stdout) ---\n",
    "import sys, logging, time\n",
    "logging.basicConfig(\n",
    "    level=logging.INFO,\n",
    "    format=\"%(asctime)s %(levelname)s %(name)s :: %(message)s\",\n",
    "    stream=sys.stderr,  # MUY IMPORTANTE en STDIO\n",
    ")\n",
    "log = logging.getLogger(\"taskpilot\")\n"
   ]
  }
 ],
 "metadata": {
  "language_info": {
   "name": "python"
  }
 },
 "nbformat": 4,
 "nbformat_minor": 5
}
