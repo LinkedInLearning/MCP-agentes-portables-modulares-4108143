{
 "cells": [
  {
   "cell_type": "markdown",
   "id": "08accbd6",
   "metadata": {},
   "source": [
    "## MCP Primitives\n",
    "================"
   ]
  },
  {
   "cell_type": "markdown",
   "id": "4ad7c613",
   "metadata": {},
   "source": [
    "### Tools"
   ]
  },
  {
   "cell_type": "code",
   "execution_count": 6,
   "id": "f0b9c30f",
   "metadata": {},
   "outputs": [],
   "source": [
    "from mcp.server.fastmcp import FastMCP\n",
    "mcp = FastMCP(\"Primitives Demo\")\n",
    "\n",
    "@mcp.tool()\n",
    "def add(a: int, b: int) -> int:\n",
    "    \"\"\"Add two numbers.\"\"\"\n",
    "    return a + b\n"
   ]
  },
  {
   "cell_type": "markdown",
   "id": "6ce192a1",
   "metadata": {},
   "source": [
    "### Resources"
   ]
  },
  {
   "cell_type": "code",
   "execution_count": null,
   "id": "de90408b",
   "metadata": {},
   "outputs": [],
   "source": [
    "@mcp.resource(\"city://{name}\")\n",
    "def city_info(name: str) -> dict:\n",
    "    \"\"\"Return info about a city. (demo)\"\"\"\n",
    "    db = {\"madrid\": {\"country\": \"ES\", \"tz\": \"Europe/Madrid\"},\n",
    "          \"london\": {\"country\": \"UK\", \"tz\": \"Europe/London\"},\n",
    "          \"guadalajara\": {\"country\": \"MX\", \"tz\": \"America/Mexico_City\"}}\n",
    "    info = db.get(name.lower())\n",
    "    return {\"city\": name, \"info\": info or \"unknown\"}\n"
   ]
  },
  {
   "cell_type": "markdown",
   "id": "3666096b",
   "metadata": {},
   "source": [
    "### Prompts"
   ]
  },
  {
   "cell_type": "code",
   "execution_count": null,
   "id": "5e598703",
   "metadata": {},
   "outputs": [],
   "source": [
    "@mcp.prompt(title=\"weather_summary_demo\", description=\"Generate a weather summary for a city.\")\n",
    "def weather_summary_demo(city: str, style: str = \"bullets\") -> str:\n",
    "    \"\"\"Template for weather summary for a city.\"\"\"\n",
    "    if style == \"bullets\":\n",
    "        return f\"- Weather summary for {city}\\n- Data: {{weather_data}}\\n- Recommendations: {{tips}}\"\n",
    "    return f\"Weather summary for {city}:\\n{{weather_data}}\\nTips: {{tips}}\"\n"
   ]
  },
  {
   "cell_type": "markdown",
   "id": "0fd58ffc",
   "metadata": {},
   "source": [
    "## OpenAI Architechture Run"
   ]
  },
  {
   "cell_type": "code",
   "execution_count": null,
   "id": "2fe60a7c",
   "metadata": {},
   "outputs": [],
   "source": [
    "from openai import OpenAI\n",
    "\n",
    "client = OpenAI()  # Usa OPENAI_API_KEY en tu entorno\n",
    "\n",
    "response = client.responses.create(\n",
    "    model=\"gpt-5\",  # o un modelo compatible con MCP tool\n",
    "    input=\"¿Qué tiempo hace hoy en Madrid? Usa el servidor 'weather' si ayuda.\",\n",
    "    tools=[{\n",
    "        \"type\": \"mcp\",\n",
    "        \"server_label\": \"weather\",\n",
    "        \"server_url\": \"https://<tu-subdominio>.ngrok.app/mcp\"\n",
    "    }],\n",
    "    # el modelo elegirá automáticamente si invoca la tool\n",
    ")\n",
    "\n",
    "# Propiedad de conveniencia para leer el texto plano\n",
    "print(response.output_text)\n"
   ]
  }
 ],
 "metadata": {
  "kernelspec": {
   "display_name": "calculator",
   "language": "python",
   "name": "python3"
  },
  "language_info": {
   "codemirror_mode": {
    "name": "ipython",
    "version": 3
   },
   "file_extension": ".py",
   "mimetype": "text/x-python",
   "name": "python",
   "nbconvert_exporter": "python",
   "pygments_lexer": "ipython3",
   "version": "3.12.2"
  }
 },
 "nbformat": 4,
 "nbformat_minor": 5
}
